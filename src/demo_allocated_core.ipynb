{
 "cells": [
  {
   "cell_type": "markdown",
   "id": "passive-washington",
   "metadata": {},
   "source": [
    "# Demonstrate Allocated Score / STAR-PR voting\n",
    "\n",
    "This [Jupyter notebook](https://jupyter.org) demonstrates [Allocated Score](https://electowiki.org/wiki/Allocated_Score) voting, aka STAR-PR. It is a multi-winner [Proportional Representation](https://en.wikipedia.org/wiki/Proportional_representation)\n",
    "voting method for score ballots ala\n",
    "[STAR-voting](https://en.wikipedia.org/wiki/STAR_voting).\n",
    "\n",
    "\n",
    "See the Python code in the GitHub repository at https://github.com/nealmcb/allocated_score_voting\n",
    "It borrows the Python implementation from the [Allocated Score](https://electowiki.org/wiki/Allocated_Score) page at [electowiki](https://electowiki.org)."
   ]
  },
  {
   "cell_type": "markdown",
   "id": "f753bfd5",
   "metadata": {},
   "source": [
    "First, import the necessary libraries"
   ]
  },
  {
   "cell_type": "code",
   "execution_count": 1,
   "id": "meaning-array",
   "metadata": {},
   "outputs": [],
   "source": [
    "import pandas as pd\n",
    "import allocated_score"
   ]
  },
  {
   "cell_type": "markdown",
   "id": "11baf801",
   "metadata": {},
   "source": [
    "The default maximum score in STAR-PR is 5.\n",
    "\n",
    "Note that 0 is also a valid score, so there are 6 possible ratings for each candidate."
   ]
  },
  {
   "cell_type": "code",
   "execution_count": 2,
   "id": "equal-missile",
   "metadata": {},
   "outputs": [],
   "source": [
    "max_score = 5"
   ]
  },
  {
   "cell_type": "markdown",
   "id": "fleet-paper",
   "metadata": {},
   "source": [
    "Our first example uses the data in `src/Tests/sample.test.js` from https://github.com/Equal-Vote/star-core, but looks for three winners rather than one."
   ]
  },
  {
   "cell_type": "markdown",
   "id": "d26764f0",
   "metadata": {},
   "source": [
    "Specify the number of winners to select"
   ]
  },
  {
   "cell_type": "code",
   "execution_count": 3,
   "id": "1c7a4cc2",
   "metadata": {},
   "outputs": [],
   "source": [
    "num_winners = 3"
   ]
  },
  {
   "cell_type": "markdown",
   "id": "a8563b01",
   "metadata": {},
   "source": [
    "We name the candidates, separated by commas, and automatically split into a list."
   ]
  },
  {
   "cell_type": "code",
   "execution_count": 4,
   "id": "centered-vermont",
   "metadata": {},
   "outputs": [],
   "source": [
    "candidates = 'Adam,Becky,Cindy,Dylan,Eliza'.split(',')"
   ]
  },
  {
   "cell_type": "markdown",
   "id": "fd5046d0",
   "metadata": {},
   "source": [
    "For each ballot, we include a row with the score for each candidate in turn.\n",
    "\n",
    "Here are 7 ballots. Note e.g. that the score in the first ballot for Cindy is a 5."
   ]
  },
  {
   "cell_type": "code",
   "execution_count": 5,
   "id": "tribal-carrier",
   "metadata": {},
   "outputs": [],
   "source": [
    "scores = [\n",
    "    [0,0,5,3,2],\n",
    "    [4,0,3,3,2],\n",
    "    [0,0,0,3,1],\n",
    "    [2,0,0,3,4],\n",
    "    [0,0,0,0,0],\n",
    "    [1,5,0,3,5],\n",
    "    [0,0,0,0,0],\n",
    "]"
   ]
  },
  {
   "cell_type": "markdown",
   "id": "fc3063d6",
   "metadata": {},
   "source": [
    "We read the data into a [Pandas](https://pandas.pydata.org/) dataframe, so we can use its powerful capabilities in the implementation."
   ]
  },
  {
   "cell_type": "code",
   "execution_count": 6,
   "id": "ultimate-candle",
   "metadata": {},
   "outputs": [],
   "source": [
    "S = pd.DataFrame.from_records(scores, columns=candidates)"
   ]
  },
  {
   "cell_type": "code",
   "execution_count": 7,
   "id": "fabulous-ranking",
   "metadata": {},
   "outputs": [
    {
     "data": {
      "text/html": [
       "<div>\n",
       "<style scoped>\n",
       "    .dataframe tbody tr th:only-of-type {\n",
       "        vertical-align: middle;\n",
       "    }\n",
       "\n",
       "    .dataframe tbody tr th {\n",
       "        vertical-align: top;\n",
       "    }\n",
       "\n",
       "    .dataframe thead th {\n",
       "        text-align: right;\n",
       "    }\n",
       "</style>\n",
       "<table border=\"1\" class=\"dataframe\">\n",
       "  <thead>\n",
       "    <tr style=\"text-align: right;\">\n",
       "      <th></th>\n",
       "      <th>Adam</th>\n",
       "      <th>Becky</th>\n",
       "      <th>Cindy</th>\n",
       "      <th>Dylan</th>\n",
       "      <th>Eliza</th>\n",
       "    </tr>\n",
       "  </thead>\n",
       "  <tbody>\n",
       "    <tr>\n",
       "      <th>0</th>\n",
       "      <td>0</td>\n",
       "      <td>0</td>\n",
       "      <td>5</td>\n",
       "      <td>3</td>\n",
       "      <td>2</td>\n",
       "    </tr>\n",
       "    <tr>\n",
       "      <th>1</th>\n",
       "      <td>4</td>\n",
       "      <td>0</td>\n",
       "      <td>3</td>\n",
       "      <td>3</td>\n",
       "      <td>2</td>\n",
       "    </tr>\n",
       "    <tr>\n",
       "      <th>2</th>\n",
       "      <td>0</td>\n",
       "      <td>0</td>\n",
       "      <td>0</td>\n",
       "      <td>3</td>\n",
       "      <td>1</td>\n",
       "    </tr>\n",
       "    <tr>\n",
       "      <th>3</th>\n",
       "      <td>2</td>\n",
       "      <td>0</td>\n",
       "      <td>0</td>\n",
       "      <td>3</td>\n",
       "      <td>4</td>\n",
       "    </tr>\n",
       "    <tr>\n",
       "      <th>4</th>\n",
       "      <td>0</td>\n",
       "      <td>0</td>\n",
       "      <td>0</td>\n",
       "      <td>0</td>\n",
       "      <td>0</td>\n",
       "    </tr>\n",
       "    <tr>\n",
       "      <th>5</th>\n",
       "      <td>1</td>\n",
       "      <td>5</td>\n",
       "      <td>0</td>\n",
       "      <td>3</td>\n",
       "      <td>5</td>\n",
       "    </tr>\n",
       "    <tr>\n",
       "      <th>6</th>\n",
       "      <td>0</td>\n",
       "      <td>0</td>\n",
       "      <td>0</td>\n",
       "      <td>0</td>\n",
       "      <td>0</td>\n",
       "    </tr>\n",
       "  </tbody>\n",
       "</table>\n",
       "</div>"
      ],
      "text/plain": [
       "   Adam  Becky  Cindy  Dylan  Eliza\n",
       "0     0      0      5      3      2\n",
       "1     4      0      3      3      2\n",
       "2     0      0      0      3      1\n",
       "3     2      0      0      3      4\n",
       "4     0      0      0      0      0\n",
       "5     1      5      0      3      5\n",
       "6     0      0      0      0      0"
      ]
     },
     "execution_count": 7,
     "metadata": {},
     "output_type": "execute_result"
    }
   ],
   "source": [
    "S"
   ]
  },
  {
   "cell_type": "markdown",
   "id": "0e08f408",
   "metadata": {},
   "source": [
    "Finally, we determine the winners using the provided library function."
   ]
  },
  {
   "cell_type": "code",
   "execution_count": 8,
   "id": "better-proposition",
   "metadata": {},
   "outputs": [
    {
     "data": {
      "text/plain": [
       "['Dylan', 'Eliza', 'Adam']"
      ]
     },
     "execution_count": 8,
     "metadata": {},
     "output_type": "execute_result"
    }
   ],
   "source": [
    "allocated_score.Allocated_Score(max_score, num_winners, S)"
   ]
  },
  {
   "cell_type": "markdown",
   "id": "marked-sender",
   "metadata": {},
   "source": [
    "## Simplified setup of factions and trying various winner counts\n",
    "Here we see how to set up an election with *factions*, each with as many candidates as there are seats, where voters are very simplistically modeled into `profiles` showing how they score the factions, and in which everyone ranks every candidate in the faction the same way."
   ]
  },
  {
   "cell_type": "code",
   "execution_count": 9,
   "id": "incomplete-leave",
   "metadata": {},
   "outputs": [],
   "source": [
    "num_winners = 5"
   ]
  },
  {
   "cell_type": "code",
   "execution_count": 10,
   "id": "equipped-wesley",
   "metadata": {},
   "outputs": [],
   "source": [
    "factions = ['A', 'B', 'C']\n",
    "candidates = allocated_score.dup_factions(factions, num_winners)"
   ]
  },
  {
   "cell_type": "code",
   "execution_count": 11,
   "id": "minus-breath",
   "metadata": {},
   "outputs": [],
   "source": [
    "red   = [5, 0, 0]\n",
    "green = [0, 4, 5]\n",
    "blue  = [0, 3, 0]"
   ]
  },
  {
   "cell_type": "code",
   "execution_count": 12,
   "id": "promotional-maldives",
   "metadata": {},
   "outputs": [],
   "source": [
    "profiles = [(red, 21), (green, 41), (blue, 38)]"
   ]
  },
  {
   "cell_type": "markdown",
   "id": "popular-norman",
   "metadata": {},
   "source": [
    "With the blue profile of voters giving a score of 3 to the `B` faction, they get 4 winners:"
   ]
  },
  {
   "cell_type": "code",
   "execution_count": 13,
   "id": "healthy-submission",
   "metadata": {},
   "outputs": [
    {
     "name": "stdout",
     "output_type": "stream",
     "text": [
      "Example election: num_winners=5, max_score=5, factions=['A', 'B', 'C']\n",
      "Profiles:\n",
      "  21: [5, 0, 0]\n",
      "  41: [0, 4, 5]\n",
      "  38: [0, 3, 0]\n",
      "Winners: ['B1', 'B2', 'B3', 'A1', 'B4']\n"
     ]
    }
   ],
   "source": [
    "allocated_score.tabulate_factions(max_score, num_winners, factions, candidates, profiles)"
   ]
  },
  {
   "cell_type": "markdown",
   "id": "latter-xerox",
   "metadata": {},
   "source": [
    "Note here that if blue gives a higher score of 5 to `B`, they only get 3 winners:"
   ]
  },
  {
   "cell_type": "code",
   "execution_count": 14,
   "id": "healthy-inspection",
   "metadata": {},
   "outputs": [
    {
     "name": "stdout",
     "output_type": "stream",
     "text": [
      "Example election: num_winners=5, max_score=5, factions=['A', 'B', 'C']\n",
      "Profiles:\n",
      "  21: [5, 0, 0]\n",
      "  41: [0, 4, 5]\n",
      "  38: [0, 5, 0]\n",
      "Winners: ['B1', 'B2', 'B3', 'A1', 'C1']\n"
     ]
    }
   ],
   "source": [
    "blue5  = [0, 5, 0]\n",
    "profiles5 = [(red, 21), (green, 41), (blue5, 38)]\n",
    "allocated_score.tabulate_factions(max_score, num_winners, factions, candidates, profiles5)"
   ]
  },
  {
   "cell_type": "markdown",
   "id": "86901236",
   "metadata": {},
   "source": [
    "This is certainly counter-intuitive, and is related to issues of \"non-monotonicity\" in single-winner methods.\n",
    "\n",
    "But with multiple winners, that sort of issue seems trickier to define and even harder to avoid."
   ]
  }
 ],
 "metadata": {
  "kernelspec": {
   "display_name": "Python 3 (ipykernel)",
   "language": "python",
   "name": "python3"
  },
  "language_info": {
   "codemirror_mode": {
    "name": "ipython",
    "version": 3
   },
   "file_extension": ".py",
   "mimetype": "text/x-python",
   "name": "python",
   "nbconvert_exporter": "python",
   "pygments_lexer": "ipython3",
   "version": "3.8.10"
  },
  "toc": {
   "colors": {
    "hover_highlight": "#DAA520",
    "running_highlight": "#FF0000",
    "selected_highlight": "#FFD700"
   },
   "moveMenuLeft": true,
   "nav_menu": {
    "height": "48.3523px",
    "width": "251.989px"
   },
   "navigate_menu": true,
   "number_sections": true,
   "sideBar": true,
   "threshold": 4,
   "toc_cell": false,
   "toc_section_display": "block",
   "toc_window_display": false,
   "widenNotebook": false
  }
 },
 "nbformat": 4,
 "nbformat_minor": 5
}
