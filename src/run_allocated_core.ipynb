{
 "cells": [
  {
   "cell_type": "markdown",
   "id": "passive-washington",
   "metadata": {},
   "source": [
    "# Demonstrate allocated score voting\n",
    "\n",
    "See https://github.com/nealmcb/allocated_score_voting"
   ]
  },
  {
   "cell_type": "code",
   "execution_count": 1,
   "id": "meaning-array",
   "metadata": {},
   "outputs": [],
   "source": [
    "import pandas as pd\n",
    "import allocated_score"
   ]
  },
  {
   "cell_type": "code",
   "execution_count": 2,
   "id": "equal-missile",
   "metadata": {},
   "outputs": [],
   "source": [
    "max_score = 5\n",
    "num_winners = 3"
   ]
  },
  {
   "cell_type": "markdown",
   "id": "fleet-paper",
   "metadata": {},
   "source": [
    "Example from star-core example at https://github.com/Equal-Vote/star-core"
   ]
  },
  {
   "cell_type": "code",
   "execution_count": 3,
   "id": "centered-vermont",
   "metadata": {},
   "outputs": [],
   "source": [
    "candidates = 'Adam,Becky,Cindy,Dylan,Eliza'.split(',')"
   ]
  },
  {
   "cell_type": "code",
   "execution_count": 4,
   "id": "tribal-carrier",
   "metadata": {},
   "outputs": [],
   "source": [
    "scores = [\n",
    "    [0,0,5,3,2],\n",
    "    [4,0,3,3,2],\n",
    "    [0,0,0,3,1],\n",
    "    [2,0,0,3,4],\n",
    "    [0,0,0,0,0],\n",
    "    [1,5,0,3,5],\n",
    "    [0,0,0,0,0],\n",
    "]"
   ]
  },
  {
   "cell_type": "code",
   "execution_count": 5,
   "id": "ultimate-candle",
   "metadata": {},
   "outputs": [],
   "source": [
    "S = pd.DataFrame.from_records(scores, columns=candidates)"
   ]
  },
  {
   "cell_type": "code",
   "execution_count": 6,
   "id": "fabulous-ranking",
   "metadata": {},
   "outputs": [
    {
     "data": {
      "text/html": [
       "<div>\n",
       "<style scoped>\n",
       "    .dataframe tbody tr th:only-of-type {\n",
       "        vertical-align: middle;\n",
       "    }\n",
       "\n",
       "    .dataframe tbody tr th {\n",
       "        vertical-align: top;\n",
       "    }\n",
       "\n",
       "    .dataframe thead th {\n",
       "        text-align: right;\n",
       "    }\n",
       "</style>\n",
       "<table border=\"1\" class=\"dataframe\">\n",
       "  <thead>\n",
       "    <tr style=\"text-align: right;\">\n",
       "      <th></th>\n",
       "      <th>Adam</th>\n",
       "      <th>Becky</th>\n",
       "      <th>Cindy</th>\n",
       "      <th>Dylan</th>\n",
       "      <th>Eliza</th>\n",
       "    </tr>\n",
       "  </thead>\n",
       "  <tbody>\n",
       "    <tr>\n",
       "      <th>0</th>\n",
       "      <td>0</td>\n",
       "      <td>0</td>\n",
       "      <td>5</td>\n",
       "      <td>3</td>\n",
       "      <td>2</td>\n",
       "    </tr>\n",
       "    <tr>\n",
       "      <th>1</th>\n",
       "      <td>4</td>\n",
       "      <td>0</td>\n",
       "      <td>3</td>\n",
       "      <td>3</td>\n",
       "      <td>2</td>\n",
       "    </tr>\n",
       "    <tr>\n",
       "      <th>2</th>\n",
       "      <td>0</td>\n",
       "      <td>0</td>\n",
       "      <td>0</td>\n",
       "      <td>3</td>\n",
       "      <td>1</td>\n",
       "    </tr>\n",
       "    <tr>\n",
       "      <th>3</th>\n",
       "      <td>2</td>\n",
       "      <td>0</td>\n",
       "      <td>0</td>\n",
       "      <td>3</td>\n",
       "      <td>4</td>\n",
       "    </tr>\n",
       "    <tr>\n",
       "      <th>4</th>\n",
       "      <td>0</td>\n",
       "      <td>0</td>\n",
       "      <td>0</td>\n",
       "      <td>0</td>\n",
       "      <td>0</td>\n",
       "    </tr>\n",
       "    <tr>\n",
       "      <th>5</th>\n",
       "      <td>1</td>\n",
       "      <td>5</td>\n",
       "      <td>0</td>\n",
       "      <td>3</td>\n",
       "      <td>5</td>\n",
       "    </tr>\n",
       "    <tr>\n",
       "      <th>6</th>\n",
       "      <td>0</td>\n",
       "      <td>0</td>\n",
       "      <td>0</td>\n",
       "      <td>0</td>\n",
       "      <td>0</td>\n",
       "    </tr>\n",
       "  </tbody>\n",
       "</table>\n",
       "</div>"
      ],
      "text/plain": [
       "   Adam  Becky  Cindy  Dylan  Eliza\n",
       "0     0      0      5      3      2\n",
       "1     4      0      3      3      2\n",
       "2     0      0      0      3      1\n",
       "3     2      0      0      3      4\n",
       "4     0      0      0      0      0\n",
       "5     1      5      0      3      5\n",
       "6     0      0      0      0      0"
      ]
     },
     "execution_count": 6,
     "metadata": {},
     "output_type": "execute_result"
    }
   ],
   "source": [
    "S"
   ]
  },
  {
   "cell_type": "code",
   "execution_count": 7,
   "id": "better-proposition",
   "metadata": {},
   "outputs": [
    {
     "data": {
      "text/plain": [
       "['Dylan', 'Eliza', 'Adam']"
      ]
     },
     "execution_count": 7,
     "metadata": {},
     "output_type": "execute_result"
    }
   ],
   "source": [
    "allocated_score.Allocated_Score(max_score, num_winners, S)"
   ]
  },
  {
   "cell_type": "markdown",
   "id": "marked-sender",
   "metadata": {},
   "source": [
    "## Example of non-monotonicity\n",
    "This also shows how to set up an election with factions, each with as many candidates as there are seats, where voters are very simplistically modeled into `profiles` showing how they score the factions, and in which everyone ranks every candidate in the faction the same way."
   ]
  },
  {
   "cell_type": "code",
   "execution_count": 8,
   "id": "incomplete-leave",
   "metadata": {},
   "outputs": [],
   "source": [
    "num_winners = 5"
   ]
  },
  {
   "cell_type": "code",
   "execution_count": 9,
   "id": "equipped-wesley",
   "metadata": {},
   "outputs": [],
   "source": [
    "factions = ['A', 'B', 'C']\n",
    "candidates = allocated_score.dup_factions(factions, num_winners)"
   ]
  },
  {
   "cell_type": "code",
   "execution_count": 10,
   "id": "minus-breath",
   "metadata": {},
   "outputs": [],
   "source": [
    "red   = [5, 0, 0]\n",
    "green = [0, 4, 5]\n",
    "blue  = [0, 3, 0]"
   ]
  },
  {
   "cell_type": "code",
   "execution_count": 11,
   "id": "promotional-maldives",
   "metadata": {},
   "outputs": [],
   "source": [
    "profiles = [(red, 21), (green, 41), (blue, 38)]"
   ]
  },
  {
   "cell_type": "markdown",
   "id": "popular-norman",
   "metadata": {},
   "source": [
    "With the blue profile of voters giving a score of 3 to the `B` faction, they get 4 winners:"
   ]
  },
  {
   "cell_type": "code",
   "execution_count": 12,
   "id": "healthy-submission",
   "metadata": {},
   "outputs": [
    {
     "name": "stdout",
     "output_type": "stream",
     "text": [
      "Example election: num_winners=5, max_score=5, factions=['A', 'B', 'C']\n",
      "Profiles:\n",
      "  21: [5, 0, 0]\n",
      "  41: [0, 4, 5]\n",
      "  38: [0, 3, 0]\n",
      "Winners: ['B1', 'B2', 'B3', 'A1', 'B4']\n"
     ]
    }
   ],
   "source": [
    "allocated_score.tabulate_factions(max_score, num_winners, factions, candidates, profiles)"
   ]
  },
  {
   "cell_type": "markdown",
   "id": "latter-xerox",
   "metadata": {},
   "source": [
    "But if blue gives a higher score of 5 to `B`, they only get 3 winners:"
   ]
  },
  {
   "cell_type": "code",
   "execution_count": 13,
   "id": "healthy-inspection",
   "metadata": {},
   "outputs": [
    {
     "name": "stdout",
     "output_type": "stream",
     "text": [
      "Example election: num_winners=5, max_score=5, factions=['A', 'B', 'C']\n",
      "Profiles:\n",
      "  21: [5, 0, 0]\n",
      "  41: [0, 4, 5]\n",
      "  38: [0, 5, 0]\n",
      "Winners: ['B1', 'B2', 'B3', 'A1', 'C1']\n"
     ]
    }
   ],
   "source": [
    "blue5  = [0, 5, 0]\n",
    "profiles5 = [(red, 21), (green, 41), (blue5, 38)]\n",
    "allocated_score.tabulate_factions(max_score, num_winners, factions, candidates, profiles5)"
   ]
  }
 ],
 "metadata": {
  "kernelspec": {
   "display_name": "Python 3 (ipykernel)",
   "language": "python",
   "name": "python3"
  },
  "language_info": {
   "codemirror_mode": {
    "name": "ipython",
    "version": 3
   },
   "file_extension": ".py",
   "mimetype": "text/x-python",
   "name": "python",
   "nbconvert_exporter": "python",
   "pygments_lexer": "ipython3",
   "version": "3.8.10"
  },
  "toc": {
   "colors": {
    "hover_highlight": "#DAA520",
    "running_highlight": "#FF0000",
    "selected_highlight": "#FFD700"
   },
   "moveMenuLeft": true,
   "nav_menu": {
    "height": "48.3523px",
    "width": "251.989px"
   },
   "navigate_menu": true,
   "number_sections": true,
   "sideBar": true,
   "threshold": 4,
   "toc_cell": false,
   "toc_section_display": "block",
   "toc_window_display": false,
   "widenNotebook": false
  }
 },
 "nbformat": 4,
 "nbformat_minor": 5
}
